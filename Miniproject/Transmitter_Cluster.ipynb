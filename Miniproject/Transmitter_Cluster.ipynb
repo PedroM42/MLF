{
  "nbformat": 4,
  "nbformat_minor": 0,
  "metadata": {
    "colab": {
      "provenance": [],
      "collapsed_sections": [
        "eClFWsm1Beto",
        "9YDBRf6IAtFl",
        "nPjTGEkaB2u2",
        "_xWY3dWkCHlX",
        "p6Y-vUJsCc5l",
        "Hf9PsBmmBwsn",
        "-tsFOBZw3QJ2",
        "8LTZRXPD3wks",
        "Zr6dnos_34cs",
        "9gnOgTr34z3x"
      ]
    },
    "kernelspec": {
      "name": "python3",
      "display_name": "Python 3"
    },
    "language_info": {
      "name": "python"
    }
  },
  "cells": [
    {
      "cell_type": "markdown",
      "source": [
        "# **MPA-MLF - Miniproject**\n",
        "Classification of wireless transmitters.\n",
        "Task is to determine the number of wireless transmitters based on the hardware imperfections. You\n",
        "are provided with the dataset. The dataset consists of 19200 samples and 9 features in total. The features represent\n",
        "the main radio frequency impairments."
      ],
      "metadata": {
        "id": "9wQWM6AIbKLJ"
      }
    },
    {
      "cell_type": "markdown",
      "source": [
        "## Clustering using libraries\n"
      ],
      "metadata": {
        "id": "Hr6k-SCctRmE"
      }
    },
    {
      "cell_type": "markdown",
      "source": [
        "### Importing libraries"
      ],
      "metadata": {
        "id": "eClFWsm1Beto"
      }
    },
    {
      "cell_type": "code",
      "source": [
        "!pip install kneed"
      ],
      "metadata": {
        "colab": {
          "base_uri": "https://localhost:8080/"
        },
        "id": "EUp9lhDhBdtw",
        "outputId": "da0622aa-ede9-424c-9fdc-16f655173c09"
      },
      "execution_count": null,
      "outputs": [
        {
          "output_type": "stream",
          "name": "stdout",
          "text": [
            "Requirement already satisfied: kneed in /usr/local/lib/python3.10/dist-packages (0.8.5)\n",
            "Requirement already satisfied: numpy>=1.14.2 in /usr/local/lib/python3.10/dist-packages (from kneed) (1.25.2)\n",
            "Requirement already satisfied: scipy>=1.0.0 in /usr/local/lib/python3.10/dist-packages (from kneed) (1.11.4)\n"
          ]
        }
      ]
    },
    {
      "cell_type": "code",
      "source": [
        "from kneed import KneeLocator\n",
        "import pandas as pd\n",
        "from sklearn.preprocessing import StandardScaler\n",
        "from sklearn.cluster import KMeans\n",
        "import pandas as pd\n",
        "import matplotlib.pyplot as plt\n",
        "import warnings\n",
        "from IPython.display import clear_output"
      ],
      "metadata": {
        "id": "NejLGBnNug_o"
      },
      "execution_count": null,
      "outputs": []
    },
    {
      "cell_type": "markdown",
      "source": [
        "### Preprocessing"
      ],
      "metadata": {
        "id": "9YDBRf6IAtFl"
      }
    },
    {
      "cell_type": "code",
      "source": [
        "data_path = 'https://raw.githubusercontent.com/VojtechNiederle/MPC-MLF/main/Miniprojekt/Data_prepared_final.csv'\n",
        "data = pd.read_csv(data_path).iloc[:, 2:].values\n",
        "\n",
        "scaler = StandardScaler()\n",
        "data_scaled = scaler.fit_transform(data)"
      ],
      "metadata": {
        "id": "MeeJEeVyuarj"
      },
      "execution_count": null,
      "outputs": []
    },
    {
      "cell_type": "markdown",
      "source": [
        "### Clustering"
      ],
      "metadata": {
        "id": "nPjTGEkaB2u2"
      }
    },
    {
      "cell_type": "code",
      "source": [
        "warnings.filterwarnings('ignore')\n",
        "\n",
        "all_objective = []\n",
        "k_all = range(1, 80)\n",
        "\n",
        "for k in k_all:\n",
        "  print(\"progress: k:\",k)\n",
        "  clear_output(wait=True)\n",
        "\n",
        "  kmeans = KMeans(n_clusters=k)\n",
        "  kmeans.fit(data_scaled)\n",
        "  all_objective.append(kmeans.inertia_)\n",
        "\n",
        "print(\"progress: Done\")"
      ],
      "metadata": {
        "colab": {
          "base_uri": "https://localhost:8080/"
        },
        "id": "ZK1MIKANt3Z3",
        "outputId": "0299da5e-778b-42a5-db85-542c166d2964"
      },
      "execution_count": null,
      "outputs": [
        {
          "output_type": "stream",
          "name": "stdout",
          "text": [
            "progress: Done\n"
          ]
        }
      ]
    },
    {
      "cell_type": "markdown",
      "source": [
        "### Knee location"
      ],
      "metadata": {
        "id": "_xWY3dWkCHlX"
      }
    },
    {
      "cell_type": "code",
      "source": [
        "kneedle = KneeLocator(k_all, all_objective,S=0.1, curve='convex', direction='decreasing')\n",
        "print(\"Number of transmitters:\",kneedle.knee)"
      ],
      "metadata": {
        "colab": {
          "base_uri": "https://localhost:8080/"
        },
        "id": "WJRSVQ5LyG9J",
        "outputId": "e4c820ee-8c9a-4727-f464-2782f0046fe8"
      },
      "execution_count": null,
      "outputs": [
        {
          "output_type": "stream",
          "name": "stdout",
          "text": [
            "Number of transmitters: 9\n"
          ]
        }
      ]
    },
    {
      "cell_type": "markdown",
      "source": [
        "### Cluster plot (result)"
      ],
      "metadata": {
        "id": "p6Y-vUJsCc5l"
      }
    },
    {
      "cell_type": "code",
      "source": [
        "plt.figure()\n",
        "plt.plot(k_all, all_objective, marker='o')\n",
        "plt.axvline(kneedle.knee, color='black', linestyle='--', label='Knee Point')\n",
        "plt.title('Elbow Method')\n",
        "plt.xlabel('Number of clusters')\n",
        "plt.ylabel('Sum of squared distance')\n",
        "plt.show()"
      ],
      "metadata": {
        "colab": {
          "base_uri": "https://localhost:8080/",
          "height": 54
        },
        "id": "zQbmTsXZuUbC",
        "outputId": "66a449d7-1896-429e-b565-718922806c69"
      },
      "execution_count": null,
      "outputs": [
        {
          "output_type": "display_data",
          "data": {
            "text/plain": [
              "<Figure size 640x480 with 1 Axes>"
            ],
            "image/png": "[encoded data removed]"
          },
          "metadata": {}
        }
      ]
    },
    {
      "cell_type": "markdown",
      "source": [
        "## Clustering using functions from PC labs\n"
      ],
      "metadata": {
        "id": "VAm3thgy2N-y"
      }
    },
    {
      "cell_type": "markdown",
      "source": [
        "### Importing libraries"
      ],
      "metadata": {
        "id": "Hf9PsBmmBwsn"
      }
    },
    {
      "cell_type": "code",
      "source": [
        "!pip install kneed"
      ],
      "metadata": {
        "colab": {
          "base_uri": "https://localhost:8080/"
        },
        "id": "DLpGjwro6Hdz",
        "outputId": "74b033b5-2b3b-4b24-c59d-e1f6db79c2d0"
      },
      "execution_count": null,
      "outputs": [
        {
          "output_type": "stream",
          "name": "stdout",
          "text": [
            "Collecting kneed\n",
            "  Downloading kneed-0.8.5-py3-none-any.whl (10 kB)\n",
            "Requirement already satisfied: numpy>=1.14.2 in /usr/local/lib/python3.10/dist-packages (from kneed) (1.25.2)\n",
            "Requirement already satisfied: scipy>=1.0.0 in /usr/local/lib/python3.10/dist-packages (from kneed) (1.11.4)\n",
            "Installing collected packages: kneed\n",
            "Successfully installed kneed-0.8.5\n"
          ]
        }
      ]
    },
    {
      "cell_type": "code",
      "source": [
        "from kneed import KneeLocator\n",
        "import pandas as pd\n",
        "from sklearn.preprocessing import StandardScaler\n",
        "import pandas as pd\n",
        "import matplotlib.pyplot as plt\n",
        "from IPython.display import clear_output\n",
        "import numpy as np"
      ],
      "metadata": {
        "id": "HlH3FbAA6A75"
      },
      "execution_count": null,
      "outputs": []
    },
    {
      "cell_type": "markdown",
      "source": [
        "### Function Definitions"
      ],
      "metadata": {
        "id": "-tsFOBZw3QJ2"
      }
    },
    {
      "cell_type": "code",
      "source": [
        "def initialize_clusters(points: np.array, k_clusters: int) -> np.array:\n",
        "    index = np.arange(points.shape[0])\n",
        "    np.random.shuffle(index)\n",
        "    req_index = index[:k_clusters]\n",
        "    m_points = points[req_index]\n",
        "    return m_points"
      ],
      "metadata": {
        "id": "Q2AODAcGCXR7"
      },
      "execution_count": null,
      "outputs": []
    },
    {
      "cell_type": "code",
      "source": [
        "def calculate_metric(points: np.array, centroid: np.array) -> np.array:\n",
        "    distances_array = np.square(np.linalg.norm(points-centroid, axis=1))\n",
        "    return distances_array"
      ],
      "metadata": {
        "id": "A1fAzytWCvv9"
      },
      "execution_count": null,
      "outputs": []
    },
    {
      "cell_type": "code",
      "source": [
        "def compute_distances(points: np.array, centroids_points: np.array) -> np.array:\n",
        "    distances_array = np.asarray([calculate_metric(points, centroid) for centroid in centroids_points])\n",
        "    return distances_array"
      ],
      "metadata": {
        "id": "9uh95rb_Ck0A"
      },
      "execution_count": null,
      "outputs": []
    },
    {
      "cell_type": "code",
      "source": [
        "def assign_centroids(distances: np.array) -> np.array:\n",
        "    assigned_centroids = np.argmin(distances, axis=0)\n",
        "    return assigned_centroids"
      ],
      "metadata": {
        "id": "2DOB8o1HC7AJ"
      },
      "execution_count": null,
      "outputs": []
    },
    {
      "cell_type": "code",
      "source": [
        "def calculate_objective(assigned_centroids: np.array, distances: np.array) -> np.array:\n",
        "    objective_function_value = np.sum(distances.T[np.arange(len(distances.T)), assigned_centroids])\n",
        "    return objective_function_value"
      ],
      "metadata": {
        "id": "kWU-xWE-C80F"
      },
      "execution_count": null,
      "outputs": []
    },
    {
      "cell_type": "code",
      "source": [
        "def calculate_new_centroids(points: np.array, assigned_centroids: np.array, k_clusters: int) -> np.array:\n",
        "    new_clusters = []\n",
        "    for cluster_id in range(k_clusters):\n",
        "        j = np.where(assigned_centroids == cluster_id)\n",
        "        points_sel = points[j]\n",
        "        new_clusters.append(np.mean(points_sel, axis=0))\n",
        "    new_clusters = np.array(new_clusters)\n",
        "    return new_clusters"
      ],
      "metadata": {
        "id": "rd7MxgiZDMGO"
      },
      "execution_count": null,
      "outputs": []
    },
    {
      "cell_type": "code",
      "source": [
        "def fit(points: np.array, k_clusters: int, n_of_oterations: int, error: float = 0.001) -> tuple:\n",
        "    centroid_points = initialize_clusters(points, k_clusters)\n",
        "    last_objective = 10000.0\n",
        "\n",
        "    for _ in range(n_of_oterations):\n",
        "        distance = compute_distances(points, centroid_points)\n",
        "        cluster_belong = np.argmin(distance, axis=0)\n",
        "\n",
        "        objective = calculate_objective(cluster_belong, distance)\n",
        "\n",
        "        if abs(last_objective - objective) < error:\n",
        "            break\n",
        "\n",
        "        last_objective = objective\n",
        "        centroid_points = calculate_new_centroids(points, cluster_belong, k_clusters)\n",
        "\n",
        "    return centroid_points, last_objective"
      ],
      "metadata": {
        "id": "oe-FtImUCUew"
      },
      "execution_count": null,
      "outputs": []
    },
    {
      "cell_type": "markdown",
      "source": [
        "### Preprocessing"
      ],
      "metadata": {
        "id": "8LTZRXPD3wks"
      }
    },
    {
      "cell_type": "code",
      "execution_count": null,
      "metadata": {
        "id": "Ijwjt82OWye-"
      },
      "outputs": [],
      "source": [
        "data_path = 'https://raw.githubusercontent.com/VojtechNiederle/MPC-MLF/main/Miniprojekt/Data_prepared_final.csv'\n",
        "data = pd.read_csv(data_path).iloc[:, 2:].values\n",
        "\n",
        "from sklearn.preprocessing import StandardScaler\n",
        "scaler = StandardScaler()\n",
        "data_scaled = scaler.fit_transform(data)"
      ]
    },
    {
      "cell_type": "markdown",
      "source": [
        "### Clustering"
      ],
      "metadata": {
        "id": "Zr6dnos_34cs"
      }
    },
    {
      "cell_type": "code",
      "source": [
        "k_all = range(1, 80)\n",
        "all_objective = []\n",
        "\n",
        "for k in k_all:\n",
        "  print(\"progress: k:\",k)\n",
        "  clear_output(wait=True)\n",
        "\n",
        "  a, b = fit(data_scaled,k,1000)\n",
        "  all_objective.append(b)\n",
        "\n",
        "print(\"progress: Done\")"
      ],
      "metadata": {
        "id": "PFip377Gk3O3",
        "colab": {
          "base_uri": "https://localhost:8080/"
        },
        "outputId": "c6ac49e4-1160-4bfb-ecb3-67a513c3f90c"
      },
      "execution_count": null,
      "outputs": [
        {
          "output_type": "stream",
          "name": "stdout",
          "text": [
            "progress: Done\n"
          ]
        }
      ]
    },
    {
      "cell_type": "markdown",
      "source": [
        "### Knee location"
      ],
      "metadata": {
        "id": "9gnOgTr34z3x"
      }
    },
    {
      "cell_type": "code",
      "source": [
        "kneedle = KneeLocator(k_all, all_objective,S=1, curve='convex', direction='decreasing')\n",
        "print(\"Number of transmitters:\",kneedle.knee)"
      ],
      "metadata": {
        "colab": {
          "base_uri": "https://localhost:8080/"
        },
        "id": "2lBHGPVe5Csi",
        "outputId": "e8382f5a-ea98-412f-d7f2-4d3babcb123a"
      },
      "execution_count": null,
      "outputs": [
        {
          "output_type": "stream",
          "name": "stdout",
          "text": [
            "Number of transmitters: 8\n"
          ]
        }
      ]
    },
    {
      "cell_type": "markdown",
      "source": [
        "### Cluster plot (result)"
      ],
      "metadata": {
        "id": "kziYY20E5y4X"
      }
    },
    {
      "cell_type": "code",
      "source": [
        "plt.figure()\n",
        "plt.plot(k_all, all_objective, marker='o')\n",
        "plt.axvline(kneedle.knee, color='black', linestyle='--', label='Knee Point')\n",
        "plt.title('Elbow Method')\n",
        "plt.xlabel('Number of clusters')\n",
        "plt.ylabel('Sum of squared distance')\n",
        "plt.show()"
      ],
      "metadata": {
        "colab": {
          "base_uri": "https://localhost:8080/",
          "height": 472
        },
        "id": "4CzyO6-I5v_B",
        "outputId": "b5a07be6-0842-4f5e-baa5-cf7d2d7d5f02"
      },
      "execution_count": null,
      "outputs": [
        {
          "output_type": "display_data",
          "data": {
            "text/plain": [
              "<Figure size 640x480 with 1 Axes>"
            ],
            "image/png": "[encoded data removed]"
          },
          "metadata": {}
        }
      ]
    }
  ]
}