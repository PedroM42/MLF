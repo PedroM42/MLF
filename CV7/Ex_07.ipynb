{
  "cells": [
    {
      "cell_type": "markdown",
      "id": "9457fdc4-1690-4c41-8e88-1597fc2a687c",
      "metadata": {
        "id": "9457fdc4-1690-4c41-8e88-1597fc2a687c"
      },
      "source": [
        " # MPA-MLF, Lab 7 - Convolutional Neural Network"
      ]
    },
    {
      "cell_type": "markdown",
      "id": "ffa6be62-ed89-4801-b297-f1a1211ce297",
      "metadata": {
        "id": "ffa6be62-ed89-4801-b297-f1a1211ce297"
      },
      "source": [
        "## Exercise - Hand-written digits recognition"
      ]
    },
    {
      "cell_type": "markdown",
      "id": "89808395-7ffe-4df1-91e5-f31ce090b932",
      "metadata": {
        "id": "89808395-7ffe-4df1-91e5-f31ce090b932"
      },
      "source": [
        "Create CNN which will process and recognize handwritten digits. For this purposes please use the MNIST database (Modified National Institute of Standards and Technology database) which is a large database of handwritten digits that is commonly used for training various image processing systems.\n",
        "\n",
        "The datasample of the MNIST datasets can be see in the following picture"
      ]
    },
    {
      "cell_type": "markdown",
      "id": "0c65f181-d971-4f0e-ba63-17c242a65d6c",
      "metadata": {
        "id": "0c65f181-d971-4f0e-ba63-17c242a65d6c"
      },
      "source": [
        "### Task description"
      ]
    },
    {
      "cell_type": "markdown",
      "id": "1b6b04cf-eeec-404a-824b-f9aa1d3b7d7a",
      "metadata": {
        "id": "1b6b04cf-eeec-404a-824b-f9aa1d3b7d7a"
      },
      "source": [
        "In the terms of machine learning, the Hand-written digits recognition can be threated as a multi-class classification problem. This is very important knowledge to structure our model in the correct way (Especially the output-layer, including the number of neurons and activations function and the overall loss function and classification metrics)"
      ]
    },
    {
      "cell_type": "markdown",
      "id": "b724de14-3931-4983-b443-7e0106d190dc",
      "metadata": {
        "id": "b724de14-3931-4983-b443-7e0106d190dc"
      },
      "source": [
        "### 0. Import libraries"
      ]
    },
    {
      "cell_type": "markdown",
      "id": "1ffd9b11-f9c1-4b3f-8dd1-cbb18487a075",
      "metadata": {
        "id": "1ffd9b11-f9c1-4b3f-8dd1-cbb18487a075"
      },
      "source": [
        "Import the all necessary libraries, you can get inspired by the previous exercises. You can improst the libraries gradually, when do you progressing with the task"
      ]
    },
    {
      "cell_type": "code",
      "execution_count": 1,
      "id": "1f692dd4-0262-4e7a-b029-69d8280f14d2",
      "metadata": {
        "id": "1f692dd4-0262-4e7a-b029-69d8280f14d2"
      },
      "outputs": [],
      "source": [
        "from tensorflow import keras\n",
        "from keras.models import Sequential\n",
        "from keras.datasets import mnist\n",
        "import numpy as np\n",
        "import matplotlib\n",
        "import matplotlib.pyplot as plt\n",
        "###################################\n",
        "from tensorflow import keras\n",
        "from keras.models import Sequential\n",
        "from keras.layers import Conv2D, MaxPooling2D, Flatten, Dense, Dropout\n",
        "from keras.utils import to_categorical\n",
        "from keras.optimizers import Adamax\n",
        "###################################\n",
        "font = {'weight' : 'bold',\n",
        "        'size'   : 12}\n",
        "\n",
        "matplotlib.rc('font', **font)"
      ]
    },
    {
      "cell_type": "markdown",
      "id": "9c4af957-fee1-4806-9d68-797d74c332df",
      "metadata": {
        "id": "9c4af957-fee1-4806-9d68-797d74c332df"
      },
      "source": [
        "### 1. Dataset"
      ]
    },
    {
      "cell_type": "markdown",
      "id": "33cf2443-c2ed-4aaa-9b10-fa598a4fb6cb",
      "metadata": {
        "id": "33cf2443-c2ed-4aaa-9b10-fa598a4fb6cb"
      },
      "source": [
        "#### 1.1 Load Dataset"
      ]
    },
    {
      "cell_type": "markdown",
      "id": "dd860d81-ab4d-48d2-a071-e0e8aec8000f",
      "metadata": {
        "id": "dd860d81-ab4d-48d2-a071-e0e8aec8000f"
      },
      "source": [
        "You can load the dataset using the following code"
      ]
    },
    {
      "cell_type": "code",
      "execution_count": 2,
      "id": "1b6f52dc-788b-4481-95f2-c4de31cae037",
      "metadata": {
        "id": "1b6f52dc-788b-4481-95f2-c4de31cae037",
        "colab": {
          "base_uri": "https://localhost:8080/"
        },
        "outputId": "47f785d1-93f3-4bb0-92fc-f2a6dc2994bb"
      },
      "outputs": [
        {
          "output_type": "stream",
          "name": "stdout",
          "text": [
            "Downloading data from https://storage.googleapis.com/tensorflow/tf-keras-datasets/mnist.npz\n",
            "11490434/11490434 [==============================] - 0s 0us/step\n"
          ]
        }
      ],
      "source": [
        "(X_train, y_train), (X_test, y_test) = mnist.load_data()"
      ]
    },
    {
      "cell_type": "markdown",
      "id": "853727ee-5836-4345-84dd-b0135b33e6d3",
      "metadata": {
        "id": "853727ee-5836-4345-84dd-b0135b33e6d3"
      },
      "source": [
        "#### 1.2 Dataset examination"
      ]
    },
    {
      "cell_type": "markdown",
      "id": "93e9f48e-3192-494a-9b0f-e2f66a7c286e",
      "metadata": {
        "id": "93e9f48e-3192-494a-9b0f-e2f66a7c286e"
      },
      "source": [
        "Using the following code, display random images,"
      ]
    },
    {
      "cell_type": "code",
      "execution_count": 3,
      "id": "522d7c5e-f50b-46d0-b79d-799d40ff2f1e",
      "metadata": {
        "id": "522d7c5e-f50b-46d0-b79d-799d40ff2f1e"
      },
      "outputs": [],
      "source": [
        "def display_random_images(x_data: np.array, y_data: np.array, count: int = 10) -> None:\n",
        "  index = np.array(len(x_data))\n",
        "  selected_ind = np.random.choice(index, count)\n",
        "\n",
        "  selected_img = x_data[selected_ind]\n",
        "  selected_labels = y_data[selected_ind]\n",
        "  concat_img = np.concatenate(selected_img, axis=1)\n",
        "\n",
        "  plt.figure(figsize=(20,10))\n",
        "  plt.imshow(concat_img, cmap=\"gray\")\n",
        "\n",
        "  for id_label, label in enumerate(selected_labels):\n",
        "    plt.text(14 + 28*id_label, 28*(5/4), label)\n",
        "  plt.axis('off')\n",
        "  plt.show()"
      ]
    },
    {
      "cell_type": "code",
      "execution_count": 4,
      "id": "452ea9c5-8438-4b10-8a0e-ef0e418ba5a0",
      "metadata": {
        "id": "452ea9c5-8438-4b10-8a0e-ef0e418ba5a0",
        "outputId": "e5b85216-b459-476e-f9a0-cc742b9a6f1a",
        "colab": {
          "base_uri": "https://localhost:8080/",
          "height": 215
        }
      },
      "outputs": [
        {
          "output_type": "display_data",
          "data": {
            "text/plain": [
              "<Figure size 2000x1000 with 1 Axes>"
            ],
            "image/png": "[encoded data removed]"
          },
          "metadata": {}
        }
      ],
      "source": [
        "display_random_images(X_train, y_train)"
      ]
    },
    {
      "cell_type": "markdown",
      "id": "6c0e3651-3921-4485-bdae-3731afcf03a2",
      "metadata": {
        "id": "6c0e3651-3921-4485-bdae-3731afcf03a2"
      },
      "source": [
        "Examine the dataset. Answer for yourself the following questions:\n",
        "\n",
        "- What kind of data occurs in our dataset?\n",
        "- How many data samples do we have in train and test datasets?\n",
        "- How many colour channels does the input variable have?\n",
        "- What is the size of the input images?\n",
        "- What is the necessary preprocessing of the input data X?\n",
        "- How many classes do we have in target varoable?\n",
        "- What is the necessary preprocessing of target variable y?"
      ]
    },
    {
      "cell_type": "markdown",
      "id": "08273dd4-05d0-4cd8-b989-eca8a4d1328a",
      "metadata": {
        "id": "08273dd4-05d0-4cd8-b989-eca8a4d1328a"
      },
      "source": [
        "#### 1.3 Dataset preprocessing"
      ]
    },
    {
      "cell_type": "markdown",
      "id": "2c16ee55-312f-4ee5-86cd-e09426e16e82",
      "metadata": {
        "id": "2c16ee55-312f-4ee5-86cd-e09426e16e82"
      },
      "source": [
        "Perform the necessary data preprocessing. The best way to preprocess the data would be one hot encoding for the target variable and normalization for the input variable (using min-max or z-score normalization)"
      ]
    },
    {
      "cell_type": "code",
      "execution_count": 5,
      "id": "e07697fb-0feb-4df1-8ed2-b7b20f0c015f",
      "metadata": {
        "id": "e07697fb-0feb-4df1-8ed2-b7b20f0c015f"
      },
      "outputs": [],
      "source": [
        "###################################\n",
        "X_train = X_train.reshape(X_train.shape[0], 28, 28, 1).astype('float32') / 255\n",
        "X_test = X_test.reshape(X_test.shape[0], 28, 28, 1).astype('float32') / 255\n",
        "\n",
        "y_train = to_categorical(y_train, 10)\n",
        "y_test = to_categorical(y_test, 10)\n",
        "###################################"
      ]
    },
    {
      "cell_type": "markdown",
      "id": "d20d5fef-cbca-48a2-844f-c9638f0b6bf9",
      "metadata": {
        "id": "d20d5fef-cbca-48a2-844f-c9638f0b6bf9"
      },
      "source": [
        "### 2. Build the model"
      ]
    },
    {
      "cell_type": "markdown",
      "id": "ea554fcf-7acd-4453-b18d-b4982f6a10eb",
      "metadata": {
        "id": "ea554fcf-7acd-4453-b18d-b4982f6a10eb"
      },
      "source": [
        "In this section, your task will be to define the model architecture. The intial structure can be defined as follows:\n",
        "\n",
        "Input_layer -> Convolutional_layer(kernel_size=(3,3), no_channels=32) -> Maxpooling_layer(kernel_size=(2, 2)) -> Flatten_layer -> Dense_layer (num_classes)\n",
        "    \n",
        "    \n"
      ]
    },
    {
      "cell_type": "markdown",
      "id": "0ffd3896-079e-4758-9579-387f33af9691",
      "metadata": {
        "id": "0ffd3896-079e-4758-9579-387f33af9691"
      },
      "source": [
        "#### 2.1 Define the model structure"
      ]
    },
    {
      "cell_type": "code",
      "execution_count": 6,
      "id": "77238bdf-ad74-4246-920d-a1dc28564306",
      "metadata": {
        "id": "77238bdf-ad74-4246-920d-a1dc28564306",
        "colab": {
          "base_uri": "https://localhost:8080/"
        },
        "outputId": "34577f6f-892b-4b7b-c775-5b1317510a88"
      },
      "outputs": [
        {
          "output_type": "stream",
          "name": "stdout",
          "text": [
            "Model: \"sequential\"\n",
            "_________________________________________________________________\n",
            " Layer (type)                Output Shape              Param #   \n",
            "=================================================================\n",
            " conv2d (Conv2D)             (None, 26, 26, 32)        320       \n",
            "                                                                 \n",
            " max_pooling2d (MaxPooling2  (None, 13, 13, 32)        0         \n",
            " D)                                                              \n",
            "                                                                 \n",
            " flatten (Flatten)           (None, 5408)              0         \n",
            "                                                                 \n",
            " dense (Dense)               (None, 10)                54090     \n",
            "                                                                 \n",
            "=================================================================\n",
            "Total params: 54410 (212.54 KB)\n",
            "Trainable params: 54410 (212.54 KB)\n",
            "Non-trainable params: 0 (0.00 Byte)\n",
            "_________________________________________________________________\n"
          ]
        }
      ],
      "source": [
        "model = Sequential()\n",
        "###################################\n",
        "model.add(Conv2D(32, kernel_size=(3, 3), activation='relu', input_shape=(28, 28, 1)))\n",
        "model.add(MaxPooling2D(pool_size=(2, 2)))\n",
        "model.add(Flatten())\n",
        "model.add(Dense(10, activation='softmax'))\n",
        "\n",
        "model.summary()\n",
        "###################################\n"
      ]
    },
    {
      "cell_type": "markdown",
      "id": "fde4b3eb-90e1-4724-89df-0db1872560d4",
      "metadata": {
        "id": "fde4b3eb-90e1-4724-89df-0db1872560d4"
      },
      "source": [
        "#### 2.2 Compile the model"
      ]
    },
    {
      "cell_type": "markdown",
      "id": "a467f8fb-8bfc-4cd4-9eee-820c1b9b5a52",
      "metadata": {
        "id": "a467f8fb-8bfc-4cd4-9eee-820c1b9b5a52"
      },
      "source": [
        "Build the model, use the relevant metrics, optimizer and loss function. While choosing the metrics and loss function, consider fact that we are are trying to solve the multiclass classification problem"
      ]
    },
    {
      "cell_type": "code",
      "execution_count": 7,
      "id": "e6d1a924-9e2f-4ca2-b4d6-4724f51ae065",
      "metadata": {
        "id": "e6d1a924-9e2f-4ca2-b4d6-4724f51ae065",
        "colab": {
          "base_uri": "https://localhost:8080/"
        },
        "outputId": "87b95386-3da9-4359-b5fa-556dab03083d"
      },
      "outputs": [
        {
          "output_type": "stream",
          "name": "stdout",
          "text": [
            "Model: \"sequential\"\n",
            "_________________________________________________________________\n",
            " Layer (type)                Output Shape              Param #   \n",
            "=================================================================\n",
            " conv2d (Conv2D)             (None, 26, 26, 32)        320       \n",
            "                                                                 \n",
            " max_pooling2d (MaxPooling2  (None, 13, 13, 32)        0         \n",
            " D)                                                              \n",
            "                                                                 \n",
            " flatten (Flatten)           (None, 5408)              0         \n",
            "                                                                 \n",
            " dense (Dense)               (None, 10)                54090     \n",
            "                                                                 \n",
            "=================================================================\n",
            "Total params: 54410 (212.54 KB)\n",
            "Trainable params: 54410 (212.54 KB)\n",
            "Non-trainable params: 0 (0.00 Byte)\n",
            "_________________________________________________________________\n"
          ]
        }
      ],
      "source": [
        "loss = None\n",
        "optimizer = None\n",
        "metrics = None\n",
        "\n",
        "\n",
        "###################################\n",
        "optimizer = Adamax(learning_rate=0.001)\n",
        "\n",
        "model.compile(loss='categorical_crossentropy', optimizer=optimizer, metrics=['accuracy'])\n",
        "\n",
        "###################################\n",
        "model.summary()"
      ]
    },
    {
      "cell_type": "markdown",
      "id": "f146b70f-2e8c-484f-abfd-6fc4a8b8177b",
      "metadata": {
        "id": "f146b70f-2e8c-484f-abfd-6fc4a8b8177b"
      },
      "source": [
        "### 3. Training stage"
      ]
    },
    {
      "cell_type": "markdown",
      "id": "cb1de787-9e40-47e2-bc54-44ccd1864357",
      "metadata": {
        "id": "cb1de787-9e40-47e2-bc54-44ccd1864357"
      },
      "source": [
        "#### 3.1 Model training"
      ]
    },
    {
      "cell_type": "markdown",
      "id": "2b9c7722-aed7-4b2d-a292-572921f0734b",
      "metadata": {
        "id": "2b9c7722-aed7-4b2d-a292-572921f0734b"
      },
      "source": [
        "train your model, define the relevant hyperparameters (no. epochs, batch_size), use 20p of the training data for validation"
      ]
    },
    {
      "cell_type": "code",
      "execution_count": 8,
      "id": "4f858566-601d-4873-ad02-a0635bd8f526",
      "metadata": {
        "id": "4f858566-601d-4873-ad02-a0635bd8f526",
        "colab": {
          "base_uri": "https://localhost:8080/"
        },
        "outputId": "a1e601e4-40cf-45b7-f200-7c092795d3ef"
      },
      "outputs": [
        {
          "output_type": "stream",
          "name": "stdout",
          "text": [
            "Epoch 1/13\n",
            "750/750 [==============================] - 10s 6ms/step - loss: 0.4315 - accuracy: 0.8850 - val_loss: 0.2501 - val_accuracy: 0.9323\n",
            "Epoch 2/13\n",
            "750/750 [==============================] - 3s 4ms/step - loss: 0.2254 - accuracy: 0.9350 - val_loss: 0.1846 - val_accuracy: 0.9498\n",
            "Epoch 3/13\n",
            "750/750 [==============================] - 3s 3ms/step - loss: 0.1683 - accuracy: 0.9516 - val_loss: 0.1428 - val_accuracy: 0.9622\n",
            "Epoch 4/13\n",
            "750/750 [==============================] - 2s 3ms/step - loss: 0.1335 - accuracy: 0.9631 - val_loss: 0.1199 - val_accuracy: 0.9683\n",
            "Epoch 5/13\n",
            "750/750 [==============================] - 3s 4ms/step - loss: 0.1113 - accuracy: 0.9694 - val_loss: 0.1118 - val_accuracy: 0.9689\n",
            "Epoch 6/13\n",
            "750/750 [==============================] - 3s 5ms/step - loss: 0.0973 - accuracy: 0.9732 - val_loss: 0.0945 - val_accuracy: 0.9754\n",
            "Epoch 7/13\n",
            "750/750 [==============================] - 3s 4ms/step - loss: 0.0865 - accuracy: 0.9768 - val_loss: 0.0893 - val_accuracy: 0.9768\n",
            "Epoch 8/13\n",
            "750/750 [==============================] - 3s 3ms/step - loss: 0.0788 - accuracy: 0.9782 - val_loss: 0.0842 - val_accuracy: 0.9770\n",
            "Epoch 9/13\n",
            "750/750 [==============================] - 3s 3ms/step - loss: 0.0729 - accuracy: 0.9798 - val_loss: 0.0776 - val_accuracy: 0.9791\n",
            "Epoch 10/13\n",
            "750/750 [==============================] - 3s 4ms/step - loss: 0.0682 - accuracy: 0.9810 - val_loss: 0.0774 - val_accuracy: 0.9787\n",
            "Epoch 11/13\n",
            "750/750 [==============================] - 4s 6ms/step - loss: 0.0639 - accuracy: 0.9820 - val_loss: 0.0757 - val_accuracy: 0.9789\n",
            "Epoch 12/13\n",
            "750/750 [==============================] - 5s 7ms/step - loss: 0.0603 - accuracy: 0.9836 - val_loss: 0.0742 - val_accuracy: 0.9787\n",
            "Epoch 13/13\n",
            "750/750 [==============================] - 3s 4ms/step - loss: 0.0575 - accuracy: 0.9836 - val_loss: 0.0712 - val_accuracy: 0.9797\n"
          ]
        }
      ],
      "source": [
        "###################################\n",
        "\n",
        "history = model.fit(X_train, y_train, epochs=13, batch_size=64, validation_split = 0.2)\n",
        "\n",
        "###################################"
      ]
    },
    {
      "cell_type": "markdown",
      "id": "45651f2d-5cc4-4896-8edc-f58b50fed605",
      "metadata": {
        "id": "45651f2d-5cc4-4896-8edc-f58b50fed605"
      },
      "source": [
        "#### 3.1 Model Evaluation on validation data"
      ]
    },
    {
      "cell_type": "markdown",
      "id": "eb4ea2f2-fcc8-4308-82f6-3dbd5857e989",
      "metadata": {
        "id": "eb4ea2f2-fcc8-4308-82f6-3dbd5857e989"
      },
      "source": [
        "Plot the development of the training and validation loss, and training and validation metrics."
      ]
    },
    {
      "cell_type": "code",
      "execution_count": 10,
      "id": "841d1e30-e448-4b53-b3fc-9b97863391bb",
      "metadata": {
        "id": "841d1e30-e448-4b53-b3fc-9b97863391bb",
        "colab": {
          "base_uri": "https://localhost:8080/",
          "height": 875
        },
        "outputId": "2c96aad8-49e7-4267-b2f2-b68a48ce467a"
      },
      "outputs": [
        {
          "output_type": "execute_result",
          "data": {
            "text/plain": [
              "[<matplotlib.lines.Line2D at 0x792f0c205120>]"
            ]
          },
          "metadata": {},
          "execution_count": 10
        },
        {
          "output_type": "display_data",
          "data": {
            "text/plain": [
              "<Figure size 640x480 with 1 Axes>"
            ],
            "image/png": "[encoded data removed]"
          },
          "metadata": {}
        },
        {
          "output_type": "display_data",
          "data": {
            "text/plain": [
              "<Figure size 640x480 with 1 Axes>"
            ],
            "image/png": "[encoded data removed]"
          },
          "metadata": {}
        }
      ],
      "source": [
        "###################################\n",
        "plt.figure()\n",
        "plt.plot(history.history['loss'])\n",
        "plt.plot(history.history['val_loss'])\n",
        "\n",
        "plt.figure()\n",
        "plt.plot(history.history['accuracy'])\n",
        "plt.plot(history.history['val_accuracy'])\n",
        "\n",
        "###################################"
      ]
    },
    {
      "cell_type": "markdown",
      "id": "22cd86fb-6b4c-4299-a077-fec0ab62464c",
      "metadata": {
        "id": "22cd86fb-6b4c-4299-a077-fec0ab62464c"
      },
      "source": [
        "### 4. Model evaluation"
      ]
    },
    {
      "cell_type": "markdown",
      "id": "9d93b7ad-3416-451d-8762-968f4cf1dd13",
      "metadata": {
        "id": "9d93b7ad-3416-451d-8762-968f4cf1dd13"
      },
      "source": [
        "Evaluate the model on the testing dataset using the relevant metrics. Use the confusion metrics as the one of the metrics."
      ]
    },
    {
      "cell_type": "code",
      "execution_count": 11,
      "id": "8134b757-aca1-4a0d-a0d2-3a3d0daa8d38",
      "metadata": {
        "id": "8134b757-aca1-4a0d-a0d2-3a3d0daa8d38",
        "colab": {
          "base_uri": "https://localhost:8080/"
        },
        "outputId": "ae17bc6f-0d99-4863-8ca6-0d43865ebddc"
      },
      "outputs": [
        {
          "output_type": "stream",
          "name": "stdout",
          "text": [
            "Test loss: 0.0649915561079979\n",
            "Test accuracy: 97.93999791145325 %\n"
          ]
        }
      ],
      "source": [
        "###################################\n",
        "score = model.evaluate(X_test, y_test, verbose=0)\n",
        "print('Test loss:', score[0])\n",
        "print(f'Test accuracy: {score[1]*100} %')\n",
        "\n",
        "###################################"
      ]
    },
    {
      "cell_type": "markdown",
      "id": "44a3f72d-1d76-4d98-9f03-1f8293ed6ad6",
      "metadata": {
        "id": "44a3f72d-1d76-4d98-9f03-1f8293ed6ad6"
      },
      "source": [
        "### 5. Hyperparameter tunning and regularization techniques"
      ]
    },
    {
      "cell_type": "markdown",
      "id": "e6140057-ce25-4e97-ae7b-81a47a30bebc",
      "metadata": {
        "id": "e6140057-ce25-4e97-ae7b-81a47a30bebc"
      },
      "source": [
        "When your code is ready and fully functional, try several changes in the hyperparameters and see how they influence the testing metrics. Try changes in the network structure. You can also try adding regularization techniques such as L1, L2, and Dropout. Based on the development of training and validation loss, try to identify overfitting and avoid it"
      ]
    },
    {
      "cell_type": "code",
      "execution_count": 12,
      "id": "f1f4b10b-7487-45f4-8702-267715e4041c",
      "metadata": {
        "id": "f1f4b10b-7487-45f4-8702-267715e4041c"
      },
      "outputs": [],
      "source": [
        "from tensorflow import keras\n",
        "from keras.models import Sequential\n",
        "from keras.datasets import mnist\n",
        "import numpy as np\n",
        "import matplotlib\n",
        "import matplotlib.pyplot as plt\n",
        "from sklearn.metrics import confusion_matrix\n",
        "from tensorflow import keras\n",
        "from keras.models import Sequential\n",
        "from keras.layers import Conv2D, MaxPooling2D, Flatten, Dense, Dropout,AveragePooling2D\n",
        "from keras.utils import to_categorical\n",
        "from keras.optimizers import Adamax"
      ]
    },
    {
      "cell_type": "code",
      "source": [
        "(X_train, y_train), (X_test, y_test) = mnist.load_data()\n",
        "X_train = X_train.reshape(X_train.shape[0], 28, 28, 1).astype('float32') / 255\n",
        "X_test = X_test.reshape(X_test.shape[0], 28, 28, 1).astype('float32') / 255\n",
        "\n",
        "y_train = to_categorical(y_train, 10)\n",
        "y_test = to_categorical(y_test, 10)"
      ],
      "metadata": {
        "id": "yWTc3t236k-U"
      },
      "id": "yWTc3t236k-U",
      "execution_count": 13,
      "outputs": []
    },
    {
      "cell_type": "code",
      "source": [
        "model = Sequential()\n",
        "model.add(Conv2D(64, kernel_size=(5, 5), activation='relu', input_shape=(28, 28, 1)))\n",
        "model.add(MaxPooling2D(pool_size=(2, 2)))\n",
        "model.add(Conv2D(64, kernel_size=(3, 3), activation='relu', input_shape=(28, 28, 1)))\n",
        "model.add(MaxPooling2D(pool_size=(2, 2)))\n",
        "model.add(Flatten())\n",
        "model.add(Dense(10, activation='softmax'))\n",
        "# optimizing model\n",
        "\n",
        "optimizer = Adamax(learning_rate=0.001)\n",
        "model.compile(loss='categorical_crossentropy', optimizer=optimizer, metrics=['accuracy'])\n",
        "\n",
        "# model fit\n",
        "history = model.fit(X_train, y_train, epochs=20, batch_size=64, validation_split = 0.2)\n",
        "\n",
        "# plot and validate\n",
        "score = model.evaluate(X_test, y_test, verbose=0)\n",
        "print('Test loss:', score[0])\n",
        "print(f'Test accuracy: {score[1]*100} %')\n",
        "plt.figure()\n",
        "plt.plot(history.history['loss'])\n",
        "plt.plot(history.history['val_loss'])\n",
        "plt.figure()\n",
        "plt.plot(history.history['accuracy'])\n",
        "plt.plot(history.history['val_accuracy'])"
      ],
      "metadata": {
        "id": "ZGCjtGVH6nJA",
        "colab": {
          "base_uri": "https://localhost:8080/",
          "height": 1000
        },
        "outputId": "8e2cd7ab-cc5e-47a6-8c47-a3b311acde51"
      },
      "id": "ZGCjtGVH6nJA",
      "execution_count": 14,
      "outputs": [
        {
          "output_type": "stream",
          "name": "stdout",
          "text": [
            "Epoch 1/20\n",
            "750/750 [==============================] - 5s 5ms/step - loss: 0.3049 - accuracy: 0.9126 - val_loss: 0.1237 - val_accuracy: 0.9637\n",
            "Epoch 2/20\n",
            "750/750 [==============================] - 4s 5ms/step - loss: 0.1008 - accuracy: 0.9703 - val_loss: 0.0811 - val_accuracy: 0.9770\n",
            "Epoch 3/20\n",
            "750/750 [==============================] - 3s 4ms/step - loss: 0.0729 - accuracy: 0.9781 - val_loss: 0.0683 - val_accuracy: 0.9801\n",
            "Epoch 4/20\n",
            "750/750 [==============================] - 3s 4ms/step - loss: 0.0588 - accuracy: 0.9830 - val_loss: 0.0595 - val_accuracy: 0.9824\n",
            "Epoch 5/20\n",
            "750/750 [==============================] - 3s 4ms/step - loss: 0.0495 - accuracy: 0.9854 - val_loss: 0.0625 - val_accuracy: 0.9811\n",
            "Epoch 6/20\n",
            "750/750 [==============================] - 3s 4ms/step - loss: 0.0444 - accuracy: 0.9868 - val_loss: 0.0588 - val_accuracy: 0.9837\n",
            "Epoch 7/20\n",
            "750/750 [==============================] - 3s 4ms/step - loss: 0.0394 - accuracy: 0.9883 - val_loss: 0.0467 - val_accuracy: 0.9855\n",
            "Epoch 8/20\n",
            "750/750 [==============================] - 3s 4ms/step - loss: 0.0359 - accuracy: 0.9893 - val_loss: 0.0479 - val_accuracy: 0.9854\n",
            "Epoch 9/20\n",
            "750/750 [==============================] - 4s 5ms/step - loss: 0.0323 - accuracy: 0.9905 - val_loss: 0.0449 - val_accuracy: 0.9858\n",
            "Epoch 10/20\n",
            "750/750 [==============================] - 3s 5ms/step - loss: 0.0297 - accuracy: 0.9914 - val_loss: 0.0441 - val_accuracy: 0.9864\n",
            "Epoch 11/20\n",
            "750/750 [==============================] - 4s 5ms/step - loss: 0.0272 - accuracy: 0.9916 - val_loss: 0.0444 - val_accuracy: 0.9866\n",
            "Epoch 12/20\n",
            "750/750 [==============================] - 3s 4ms/step - loss: 0.0246 - accuracy: 0.9926 - val_loss: 0.0433 - val_accuracy: 0.9873\n",
            "Epoch 13/20\n",
            "750/750 [==============================] - 4s 5ms/step - loss: 0.0230 - accuracy: 0.9932 - val_loss: 0.0458 - val_accuracy: 0.9876\n",
            "Epoch 14/20\n",
            "750/750 [==============================] - 3s 4ms/step - loss: 0.0210 - accuracy: 0.9937 - val_loss: 0.0406 - val_accuracy: 0.9879\n",
            "Epoch 15/20\n",
            "750/750 [==============================] - 3s 4ms/step - loss: 0.0198 - accuracy: 0.9935 - val_loss: 0.0421 - val_accuracy: 0.9880\n",
            "Epoch 16/20\n",
            "750/750 [==============================] - 3s 5ms/step - loss: 0.0180 - accuracy: 0.9946 - val_loss: 0.0404 - val_accuracy: 0.9883\n",
            "Epoch 17/20\n",
            "750/750 [==============================] - 4s 5ms/step - loss: 0.0169 - accuracy: 0.9950 - val_loss: 0.0415 - val_accuracy: 0.9882\n",
            "Epoch 18/20\n",
            "750/750 [==============================] - 3s 4ms/step - loss: 0.0155 - accuracy: 0.9954 - val_loss: 0.0419 - val_accuracy: 0.9875\n",
            "Epoch 19/20\n",
            "750/750 [==============================] - 3s 4ms/step - loss: 0.0148 - accuracy: 0.9956 - val_loss: 0.0462 - val_accuracy: 0.9874\n",
            "Epoch 20/20\n",
            "750/750 [==============================] - 4s 5ms/step - loss: 0.0134 - accuracy: 0.9963 - val_loss: 0.0439 - val_accuracy: 0.9882\n",
            "Test loss: 0.03300829604268074\n",
            "Test accuracy: 98.86999726295471 %\n"
          ]
        },
        {
          "output_type": "execute_result",
          "data": {
            "text/plain": [
              "[<matplotlib.lines.Line2D at 0x792f201f1690>]"
            ]
          },
          "metadata": {},
          "execution_count": 14
        },
        {
          "output_type": "display_data",
          "data": {
            "text/plain": [
              "<Figure size 640x480 with 1 Axes>"
            ],
            "image/png": "[encoded data removed]"
          },
          "metadata": {}
        },
        {
          "output_type": "display_data",
          "data": {
            "text/plain": [
              "<Figure size 640x480 with 1 Axes>"
            ],
            "image/png": "[encoded data removed]"
          },
          "metadata": {}
        }
      ]
    },
    {
      "cell_type": "code",
      "source": [
        "y_pred = model.predict(X_test)\n",
        "y_pred_classes = np.argmax(y_pred, axis=1)\n",
        "\n",
        "y_true_classes = np.argmax(y_test, axis=1)\n",
        "conf_matrix = confusion_matrix(y_true_classes, y_pred_classes)\n",
        "\n",
        "class_accuracy = conf_matrix.diagonal() / conf_matrix.sum(axis=1)\n",
        "\n",
        "for i in range(10):\n",
        "    print(f'Accuracy for digit {i}: {class_accuracy[i]*100:.2f}%')"
      ],
      "metadata": {
        "id": "t-GKG4CT6wyl",
        "colab": {
          "base_uri": "https://localhost:8080/"
        },
        "outputId": "78fc09d4-e017-4c2d-ddde-0b05b2805a29"
      },
      "id": "t-GKG4CT6wyl",
      "execution_count": 15,
      "outputs": [
        {
          "output_type": "stream",
          "name": "stdout",
          "text": [
            "313/313 [==============================] - 1s 2ms/step\n",
            "Accuracy for digit 0: 99.59%\n",
            "Accuracy for digit 1: 99.47%\n",
            "Accuracy for digit 2: 98.55%\n",
            "Accuracy for digit 3: 99.80%\n",
            "Accuracy for digit 4: 99.19%\n",
            "Accuracy for digit 5: 97.98%\n",
            "Accuracy for digit 6: 99.37%\n",
            "Accuracy for digit 7: 99.32%\n",
            "Accuracy for digit 8: 98.25%\n",
            "Accuracy for digit 9: 97.03%\n"
          ]
        }
      ]
    }
  ],
  "metadata": {
    "kernelspec": {
      "display_name": "Python 3",
      "name": "python3"
    },
    "language_info": {
      "codemirror_mode": {
        "name": "ipython",
        "version": 3
      },
      "file_extension": ".py",
      "mimetype": "text/x-python",
      "name": "python",
      "nbconvert_exporter": "python",
      "pygments_lexer": "ipython3",
      "version": "3.10.12"
    },
    "colab": {
      "provenance": [],
      "gpuType": "T4"
    },
    "accelerator": "GPU"
  },
  "nbformat": 4,
  "nbformat_minor": 5
}